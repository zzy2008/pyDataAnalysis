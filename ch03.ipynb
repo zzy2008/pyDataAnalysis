{
 "cells": [
  {
   "cell_type": "markdown",
   "metadata": {
    "slideshow": {
     "slide_type": "slide"
    }
   },
   "source": [
    "# <center>Basic of IPython </center>"
   ]
  },
  {
   "cell_type": "code",
   "execution_count": 1,
   "metadata": {
    "slideshow": {
     "slide_type": "slide"
    }
   },
   "outputs": [
    {
     "data": {
      "text/plain": [
       "5"
      ]
     },
     "execution_count": 1,
     "metadata": {},
     "output_type": "execute_result"
    }
   ],
   "source": [
    "a = 5\n",
    "a"
   ]
  },
  {
   "cell_type": "code",
   "execution_count": 2,
   "metadata": {
    "slideshow": {
     "slide_type": "slide"
    }
   },
   "outputs": [
    {
     "data": {
      "text/plain": [
       "{0: 0.26033102275457887,\n",
       " 1: 0.2067964607096892,\n",
       " 2: 0.7605823734114247,\n",
       " 3: -1.235069825494942,\n",
       " 4: -0.22610244993505357,\n",
       " 5: -0.07805481119595739,\n",
       " 6: -0.7097888481742318}"
      ]
     },
     "execution_count": 2,
     "metadata": {},
     "output_type": "execute_result"
    }
   ],
   "source": [
    "import numpy as np\n",
    "from numpy.random import randn\n",
    "data = {i : randn() for i in range(7)}\n",
    "data"
   ]
  },
  {
   "cell_type": "code",
   "execution_count": 3,
   "metadata": {
    "slideshow": {
     "slide_type": "slide"
    }
   },
   "outputs": [
    {
     "data": {
      "text/plain": [
       "[1, 2, 3, [4, 5, 6]]"
      ]
     },
     "execution_count": 3,
     "metadata": {},
     "output_type": "execute_result"
    }
   ],
   "source": [
    "b = [1, 2, 3]\n",
    "c = [4, 5, 6]\n",
    "b.append(c)\n",
    "b"
   ]
  },
  {
   "cell_type": "markdown",
   "metadata": {
    "slideshow": {
     "slide_type": "subslide"
    }
   },
   "source": [
    "？内省"
   ]
  },
  {
   "cell_type": "code",
   "execution_count": 4,
   "metadata": {
    "slideshow": {
     "slide_type": "slide"
    }
   },
   "outputs": [],
   "source": [
    "def add_numbers(a,b):\n",
    "    \"\"\"\n",
    "    Add two numbers together\"\"\"\n",
    "    return a+b\n",
    "# show source code\n",
    "# add_numbers?? "
   ]
  },
  {
   "cell_type": "markdown",
   "metadata": {
    "slideshow": {
     "slide_type": "slide"
    }
   },
   "source": [
    "搜索命名空间，用通配符"
   ]
  },
  {
   "cell_type": "code",
   "execution_count": 5,
   "metadata": {
    "slideshow": {
     "slide_type": "subslide"
    }
   },
   "outputs": [],
   "source": [
    "#np.*load*?"
   ]
  },
  {
   "cell_type": "markdown",
   "metadata": {
    "slideshow": {
     "slide_type": "slide"
    }
   },
   "source": [
    "**!** 开头可执行cmd 命令"
   ]
  },
  {
   "cell_type": "code",
   "execution_count": 6,
   "metadata": {
    "scrolled": true,
    "slideshow": {
     "slide_type": "subslide"
    }
   },
   "outputs": [
    {
     "name": "stdout",
     "output_type": "stream",
     "text": [
      "\n",
      "Windows IP 配置\n",
      "\n",
      "   主机名  . . . . . . . . . . . . . : DESKTOP-ETFS8MS\n",
      "   主 DNS 后缀 . . . . . . . . . . . : \n",
      "   节点类型  . . . . . . . . . . . . : 混合\n",
      "   IP 路由已启用 . . . . . . . . . . : 否\n",
      "   WINS 代理已启用 . . . . . . . . . : 否\n",
      "\n",
      "以太网适配器 vEthernet (Default Switch):\n",
      "\n",
      "   连接特定的 DNS 后缀 . . . . . . . : \n",
      "   描述. . . . . . . . . . . . . . . : Hyper-V Virtual Ethernet Adapter\n",
      "   物理地址. . . . . . . . . . . . . : 00-15-5D-D9-8C-99\n",
      "   DHCP 已启用 . . . . . . . . . . . : 否\n",
      "   自动配置已启用. . . . . . . . . . : 是\n",
      "   本地链接 IPv6 地址. . . . . . . . : fe80::d9c:f032:607f:631d%9(首选) \n",
      "   IPv4 地址 . . . . . . . . . . . . : 192.168.139.65(首选) \n",
      "   子网掩码  . . . . . . . . . . . . : 255.255.255.240\n",
      "   默认网关. . . . . . . . . . . . . : \n",
      "   DHCPv6 IAID . . . . . . . . . . . : 436213085\n",
      "   DHCPv6 客户端 DUID  . . . . . . . : 00-01-00-01-23-D3-2C-37-9C-B6-D0-DB-E4-29\n",
      "   DNS 服务器  . . . . . . . . . . . : fec0:0:0:ffff::1%1\n",
      "                                       fec0:0:0:ffff::2%1\n",
      "                                       fec0:0:0:ffff::3%1\n",
      "   TCPIP 上的 NetBIOS  . . . . . . . : 已启用\n",
      "\n",
      "无线局域网适配器 本地连接* 2:\n",
      "\n",
      "   媒体状态  . . . . . . . . . . . . : 媒体已断开连接\n",
      "   连接特定的 DNS 后缀 . . . . . . . : \n",
      "   描述. . . . . . . . . . . . . . . : Microsoft Wi-Fi Direct Virtual Adapter\n",
      "   物理地址. . . . . . . . . . . . . : 9E-B6-D0-DB-E4-29\n",
      "   DHCP 已启用 . . . . . . . . . . . : 是\n",
      "   自动配置已启用. . . . . . . . . . : 是\n",
      "\n",
      "无线局域网适配器 本地连接* 3:\n",
      "\n",
      "   媒体状态  . . . . . . . . . . . . : 媒体已断开连接\n",
      "   连接特定的 DNS 后缀 . . . . . . . : \n",
      "   描述. . . . . . . . . . . . . . . : Microsoft Wi-Fi Direct Virtual Adapter #2\n",
      "   物理地址. . . . . . . . . . . . . : AE-B6-D0-DB-E4-29\n",
      "   DHCP 已启用 . . . . . . . . . . . : 是\n",
      "   自动配置已启用. . . . . . . . . . : 是\n",
      "\n",
      "以太网适配器 以太网 2:\n",
      "\n",
      "   媒体状态  . . . . . . . . . . . . : 媒体已断开连接\n",
      "   连接特定的 DNS 后缀 . . . . . . . : \n",
      "   描述. . . . . . . . . . . . . . . : Netease UU TAP-Win32 Adapter V9.21\n",
      "   物理地址. . . . . . . . . . . . . : 00-FF-04-29-02-08\n",
      "   DHCP 已启用 . . . . . . . . . . . : 是\n",
      "   自动配置已启用. . . . . . . . . . : 是\n",
      "\n",
      "无线局域网适配器 WLAN:\n",
      "\n",
      "   连接特定的 DNS 后缀 . . . . . . . : \n",
      "   描述. . . . . . . . . . . . . . . : Killer Wireless-n/a/ac 1535 Wireless Network Adapter\n",
      "   物理地址. . . . . . . . . . . . . : 9C-B6-D0-DB-E4-29\n",
      "   DHCP 已启用 . . . . . . . . . . . : 是\n",
      "   自动配置已启用. . . . . . . . . . : 是\n",
      "   本地链接 IPv6 地址. . . . . . . . : fe80::bd6b:c7d0:48f1:f80b%18(首选) \n",
      "   自动配置 IPv4 地址  . . . . . . . : 169.254.248.11(首选) \n",
      "   子网掩码  . . . . . . . . . . . . : 255.255.0.0\n",
      "   默认网关. . . . . . . . . . . . . : \n",
      "   DHCPv6 IAID . . . . . . . . . . . : 144488144\n",
      "   DHCPv6 客户端 DUID  . . . . . . . : 00-01-00-01-23-D3-2C-37-9C-B6-D0-DB-E4-29\n",
      "   DNS 服务器  . . . . . . . . . . . : fec0:0:0:ffff::1%1\n",
      "                                       fec0:0:0:ffff::2%1\n",
      "                                       fec0:0:0:ffff::3%1\n",
      "   TCPIP 上的 NetBIOS  . . . . . . . : 已启用\n",
      "\n",
      "以太网适配器 蓝牙网络连接:\n",
      "\n",
      "   媒体状态  . . . . . . . . . . . . : 媒体已断开连接\n",
      "   连接特定的 DNS 后缀 . . . . . . . : \n",
      "   描述. . . . . . . . . . . . . . . : Bluetooth Device (Personal Area Network)\n",
      "   物理地址. . . . . . . . . . . . . : 9C-B6-D0-DB-E4-2A\n",
      "   DHCP 已启用 . . . . . . . . . . . : 是\n",
      "   自动配置已启用. . . . . . . . . . : 是\n"
     ]
    }
   ],
   "source": [
    "! ipconfig/all"
   ]
  },
  {
   "cell_type": "code",
   "execution_count": 7,
   "metadata": {
    "slideshow": {
     "slide_type": "slide"
    }
   },
   "outputs": [
    {
     "name": "stdout",
     "output_type": "stream",
     "text": [
      "5\n"
     ]
    }
   ],
   "source": [
    "def add_numbers(a,b):\n",
    "    \"\"\"\n",
    "    Add two numbers together\"\"\"\n",
    "    return a+b\n",
    "print (add_numbers(2,3))"
   ]
  },
  {
   "cell_type": "markdown",
   "metadata": {
    "slideshow": {
     "slide_type": "slide"
    }
   },
   "source": [
    "%paste doesn't work here."
   ]
  },
  {
   "cell_type": "markdown",
   "metadata": {
    "slideshow": {
     "slide_type": "slide"
    }
   },
   "source": [
    "### Magic Command"
   ]
  },
  {
   "cell_type": "markdown",
   "metadata": {
    "slideshow": {
     "slide_type": "slide"
    }
   },
   "source": [
    "%timeit 检测语句的执行时间"
   ]
  },
  {
   "cell_type": "code",
   "execution_count": 8,
   "metadata": {
    "slideshow": {
     "slide_type": "slide"
    }
   },
   "outputs": [
    {
     "name": "stdout",
     "output_type": "stream",
     "text": [
      "24 µs ± 2.15 µs per loop (mean ± std. dev. of 7 runs, 10000 loops each)\n"
     ]
    }
   ],
   "source": [
    "a = np.random.randn(100,100)\n",
    "%timeit np.dot(a, a)"
   ]
  },
  {
   "cell_type": "code",
   "execution_count": 9,
   "metadata": {
    "slideshow": {
     "slide_type": "subslide"
    }
   },
   "outputs": [],
   "source": [
    "%reset?"
   ]
  },
  {
   "cell_type": "markdown",
   "metadata": {
    "slideshow": {
     "slide_type": "subslide"
    }
   },
   "source": [
    "magic command可以没有% 当没有同名的变量冲突时。这称为automagic"
   ]
  },
  {
   "cell_type": "code",
   "execution_count": 10,
   "metadata": {
    "slideshow": {
     "slide_type": "subslide"
    }
   },
   "outputs": [],
   "source": [
    "%quickref\n",
    "%magic #show docs of all magic commands"
   ]
  },
  {
   "cell_type": "code",
   "execution_count": 11,
   "metadata": {
    "slideshow": {
     "slide_type": "subslide"
    }
   },
   "outputs": [
    {
     "data": {
      "text/plain": [
       "134217728"
      ]
     },
     "execution_count": 11,
     "metadata": {},
     "output_type": "execute_result"
    }
   ],
   "source": [
    "2**27"
   ]
  },
  {
   "cell_type": "code",
   "execution_count": 12,
   "metadata": {
    "slideshow": {
     "slide_type": "subslide"
    }
   },
   "outputs": [
    {
     "data": {
      "text/plain": [
       "4"
      ]
     },
     "execution_count": 12,
     "metadata": {},
     "output_type": "execute_result"
    }
   ],
   "source": [
    "2**2"
   ]
  },
  {
   "cell_type": "markdown",
   "metadata": {
    "slideshow": {
     "slide_type": "subslide"
    }
   },
   "source": [
    "最近的两个输出结果保存在: _ __"
   ]
  },
  {
   "cell_type": "code",
   "execution_count": 13,
   "metadata": {
    "slideshow": {
     "slide_type": "slide"
    }
   },
   "outputs": [
    {
     "data": {
      "text/plain": [
       "4"
      ]
     },
     "execution_count": 13,
     "metadata": {},
     "output_type": "execute_result"
    }
   ],
   "source": [
    "_"
   ]
  },
  {
   "cell_type": "code",
   "execution_count": 14,
   "metadata": {
    "slideshow": {
     "slide_type": "slide"
    }
   },
   "outputs": [],
   "source": [
    "foo = 'bar'"
   ]
  },
  {
   "cell_type": "code",
   "execution_count": 15,
   "metadata": {
    "slideshow": {
     "slide_type": "subslide"
    }
   },
   "outputs": [
    {
     "data": {
      "text/plain": [
       "'bar'"
      ]
     },
     "execution_count": 15,
     "metadata": {},
     "output_type": "execute_result"
    }
   ],
   "source": [
    "foo"
   ]
  },
  {
   "cell_type": "code",
   "execution_count": 16,
   "metadata": {
    "slideshow": {
     "slide_type": "subslide"
    }
   },
   "outputs": [
    {
     "ename": "NameError",
     "evalue": "name '_i88' is not defined",
     "output_type": "error",
     "traceback": [
      "\u001b[1;31m---------------------------------------------------------------------------\u001b[0m",
      "\u001b[1;31mNameError\u001b[0m                                 Traceback (most recent call last)",
      "\u001b[1;32m<ipython-input-16-37d52feff481>\u001b[0m in \u001b[0;36m<module>\u001b[1;34m\u001b[0m\n\u001b[1;32m----> 1\u001b[1;33m \u001b[0m_i88\u001b[0m\u001b[1;33m\u001b[0m\u001b[1;33m\u001b[0m\u001b[0m\n\u001b[0m",
      "\u001b[1;31mNameError\u001b[0m: name '_i88' is not defined"
     ]
    }
   ],
   "source": [
    "_i88"
   ]
  },
  {
   "cell_type": "code",
   "execution_count": null,
   "metadata": {
    "slideshow": {
     "slide_type": "slide"
    }
   },
   "outputs": [],
   "source": [
    "_88"
   ]
  },
  {
   "cell_type": "code",
   "execution_count": null,
   "metadata": {
    "slideshow": {
     "slide_type": "slide"
    }
   },
   "outputs": [],
   "source": [
    "%logstart"
   ]
  },
  {
   "cell_type": "code",
   "execution_count": null,
   "metadata": {
    "scrolled": true,
    "slideshow": {
     "slide_type": "subslide"
    }
   },
   "outputs": [],
   "source": [
    "ip_info = !ipconfig/all\n",
    "ip_info"
   ]
  },
  {
   "cell_type": "code",
   "execution_count": null,
   "metadata": {
    "slideshow": {
     "slide_type": "subslide"
    }
   },
   "outputs": [],
   "source": [
    "%debug"
   ]
  },
  {
   "cell_type": "code",
   "execution_count": 18,
   "metadata": {
    "slideshow": {
     "slide_type": "slide"
    }
   },
   "outputs": [],
   "source": [
    "strings = ['foo', 'foobar', 'baz'] *100000"
   ]
  },
  {
   "cell_type": "code",
   "execution_count": 19,
   "metadata": {
    "slideshow": {
     "slide_type": "slide"
    }
   },
   "outputs": [
    {
     "name": "stdout",
     "output_type": "stream",
     "text": [
      "Wall time: 45 ms\n"
     ]
    }
   ],
   "source": [
    "%time method1 = [x for x in strings if x.startswith('foo')]"
   ]
  },
  {
   "cell_type": "code",
   "execution_count": 20,
   "metadata": {
    "slideshow": {
     "slide_type": "fragment"
    }
   },
   "outputs": [
    {
     "name": "stdout",
     "output_type": "stream",
     "text": [
      "Wall time: 32 ms\n"
     ]
    }
   ],
   "source": [
    "%time method2 = [x for x in strings if x[:3] == 'foo']"
   ]
  },
  {
   "cell_type": "code",
   "execution_count": 21,
   "metadata": {
    "slideshow": {
     "slide_type": "slide"
    }
   },
   "outputs": [
    {
     "name": "stdout",
     "output_type": "stream",
     "text": [
      "41 ms ± 805 µs per loop (mean ± std. dev. of 7 runs, 10 loops each)\n"
     ]
    }
   ],
   "source": [
    "%timeit [x for x in strings if x.startswith('foo')]"
   ]
  },
  {
   "cell_type": "code",
   "execution_count": 22,
   "metadata": {
    "slideshow": {
     "slide_type": "slide"
    }
   },
   "outputs": [
    {
     "name": "stdout",
     "output_type": "stream",
     "text": [
      "25.8 ms ± 586 µs per loop (mean ± std. dev. of 7 runs, 10 loops each)\n"
     ]
    }
   ],
   "source": [
    "%timeit [x for x in strings if x[:3] == 'foo']"
   ]
  },
  {
   "cell_type": "code",
   "execution_count": 23,
   "metadata": {},
   "outputs": [
    {
     "name": "stdout",
     "output_type": "stream",
     "text": [
      "The Zen of Python, by Tim Peters\n",
      "\n",
      "Beautiful is better than ugly.\n",
      "Explicit is better than implicit.\n",
      "Simple is better than complex.\n",
      "Complex is better than complicated.\n",
      "Flat is better than nested.\n",
      "Sparse is better than dense.\n",
      "Readability counts.\n",
      "Special cases aren't special enough to break the rules.\n",
      "Although practicality beats purity.\n",
      "Errors should never pass silently.\n",
      "Unless explicitly silenced.\n",
      "In the face of ambiguity, refuse the temptation to guess.\n",
      "There should be one-- and preferably only one --obvious way to do it.\n",
      "Although that way may not be obvious at first unless you're Dutch.\n",
      "Now is better than never.\n",
      "Although never is often better than *right* now.\n",
      "If the implementation is hard to explain, it's a bad idea.\n",
      "If the implementation is easy to explain, it may be a good idea.\n",
      "Namespaces are one honking great idea -- let's do more of those!\n"
     ]
    }
   ],
   "source": [
    "import this"
   ]
  },
  {
   "cell_type": "code",
   "execution_count": null,
   "metadata": {},
   "outputs": [],
   "source": []
  },
  {
   "cell_type": "code",
   "execution_count": null,
   "metadata": {},
   "outputs": [],
   "source": []
  },
  {
   "cell_type": "code",
   "execution_count": null,
   "metadata": {},
   "outputs": [],
   "source": []
  },
  {
   "cell_type": "code",
   "execution_count": null,
   "metadata": {},
   "outputs": [],
   "source": []
  },
  {
   "cell_type": "code",
   "execution_count": null,
   "metadata": {},
   "outputs": [],
   "source": []
  },
  {
   "cell_type": "code",
   "execution_count": null,
   "metadata": {},
   "outputs": [],
   "source": []
  },
  {
   "cell_type": "code",
   "execution_count": null,
   "metadata": {},
   "outputs": [],
   "source": []
  }
 ],
 "metadata": {
  "kernelspec": {
   "display_name": "Python 3",
   "language": "python",
   "name": "python3"
  },
  "language_info": {
   "codemirror_mode": {
    "name": "ipython",
    "version": 3
   },
   "file_extension": ".py",
   "mimetype": "text/x-python",
   "name": "python",
   "nbconvert_exporter": "python",
   "pygments_lexer": "ipython3",
   "version": "3.7.3"
  }
 },
 "nbformat": 4,
 "nbformat_minor": 2
}
